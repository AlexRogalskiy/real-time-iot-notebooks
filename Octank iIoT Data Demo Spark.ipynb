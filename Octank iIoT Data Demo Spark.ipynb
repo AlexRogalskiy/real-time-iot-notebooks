{
 "cells": [
  {
   "cell_type": "markdown",
   "metadata": {
    "pycharm": {
     "name": "#%% md\n"
    }
   },
   "source": [
    "# Octank IIoT Data Analytics Notebook\n",
    "Demonstration of [AWS IoT Analytics](https://aws.amazon.com/iot-analytics/) Notebooks, using real-time sensor data."
   ]
  },
  {
   "cell_type": "code",
   "execution_count": 1,
   "metadata": {},
   "outputs": [],
   "source": [
    "import boto3\n",
    "import matplotlib.pyplot as plt\n",
    "import pandas as pd\n",
    "import pyspark.sql.functions as f\n",
    "from matplotlib.dates import DateFormatter\n",
    "from pandas.plotting import register_matplotlib_converters\n",
    "from pyspark.sql import SparkSession\n",
    "from pyspark.sql.types import StructType, StructField, StringType, IntegerType, DoubleType, TimestampType, BooleanType"
   ]
  },
  {
   "cell_type": "code",
   "execution_count": 2,
   "metadata": {},
   "outputs": [],
   "source": [
    "def parse(x):\n",
    "    x = pd.to_numeric(x, downcast=\"float\")\n",
    "    return pd.Timestamp(x, unit=\"s\")"
   ]
  },
  {
   "cell_type": "code",
   "execution_count": 3,
   "metadata": {},
   "outputs": [
    {
     "name": "stdout",
     "output_type": "stream",
     "text": [
      "CPU times: user 1min 37s, sys: 5.03 s, total: 1min 42s\n",
      "Wall time: 1min 48s\n"
     ]
    }
   ],
   "source": [
    "%%time\n",
    "\n",
    "spark = SparkSession \\\n",
    "    .builder \\\n",
    "    .appName('iiot_demo') \\\n",
    "    .getOrCreate()\n",
    "\n",
    "client = boto3.client(\"iotanalytics\")\n",
    "dataset = \"iot_data_dataset\"\n",
    "data_location = client.get_dataset_content(datasetName = dataset)[\"entries\"][0][\"dataURI\"]\n",
    "schema = StructType([\n",
    "    StructField(name='device', dataType=StringType(), nullable=False),\n",
    "    StructField(name='ts', dataType=TimestampType(), nullable=False),\n",
    "    StructField(name='humidity', dataType=DoubleType(), nullable=True),\n",
    "    StructField(name='temp', dataType=DoubleType(), nullable=True),\n",
    "    StructField(name='light', dataType=BooleanType(), nullable=True),\n",
    "    StructField(name='motion', dataType=BooleanType(), nullable=True),\n",
    "    StructField(name='lpg', dataType=DoubleType(), nullable=True),\n",
    "    StructField(name='co', dataType=DoubleType(), nullable=True),\n",
    "    StructField(name='smoke', dataType=DoubleType(), nullable=True),\n",
    "    StructField(name='__dt', dataType=StringType(), nullable=True)\n",
    "])\n",
    "\n",
    "df = spark.createDataFrame(\n",
    "    data=pd.read_csv(\n",
    "        data_location,\n",
    "        header=0,\n",
    "        low_memory=False,\n",
    "        date_parser=parse,\n",
    "        infer_datetime_format=True,\n",
    "        parse_dates=[1]\n",
    "    ), schema=schema)"
   ]
  },
  {
   "cell_type": "code",
   "execution_count": 21,
   "metadata": {},
   "outputs": [],
   "source": [
    "df = df.drop(\"__dt\")\n",
    "df = df.orderBy(f.asc(\"ts\"))"
   ]
  },
  {
   "cell_type": "code",
   "execution_count": 22,
   "metadata": {},
   "outputs": [
    {
     "name": "stdout",
     "output_type": "stream",
     "text": [
      "DataFrame[device: string, ts: timestamp, humidity: double, temp: double, light: boolean, motion: boolean, lpg: double, co: double, smoke: double]\n"
     ]
    }
   ],
   "source": [
    "print(df)"
   ]
  },
  {
   "cell_type": "code",
   "execution_count": 27,
   "metadata": {},
   "outputs": [
    {
     "name": "stdout",
     "output_type": "stream",
     "text": [
      "+------------------+-------------------+-----------------+------------------+-----+------+--------------------+--------------------+--------------------+\n",
      "|device            |ts                 |humidity         |temp              |light|motion|lpg                 |co                  |smoke               |\n",
      "+------------------+-------------------+-----------------+------------------+-----+------+--------------------+--------------------+--------------------+\n",
      "|iot-demo-device-03|2020-06-21 00:00:00|45.79999923706055|75.9199993133545  |true |false |0.007461079933679425|0.004786845372382666|0.01987101220169098 |\n",
      "|iot-demo-device-02|2020-06-21 00:00:00|70.69999694824219|63.139998626708994|true |false |0.006747995268470235|0.004166214182479396|0.017849189636577008|\n",
      "|iot-demo-device-03|2020-06-21 00:00:00|45.9000015258789 |75.9199993133545  |true |false |0.007472417062662312|0.004796903006589501|0.019903266607975173|\n",
      "|iot-demo-device-01|2020-06-21 00:00:00|82.5999984741211 |62.06000137329102 |true |false |0.006710216201741271|0.004134005617772618|0.017742466864098354|\n",
      "|iot-demo-device-03|2020-06-21 00:00:00|45.4000015258789 |75.9199993133545  |true |false |0.007427192601295317|0.004756817371922919|0.01977462186082656 |\n",
      "+------------------+-------------------+-----------------+------------------+-----+------+--------------------+--------------------+--------------------+\n",
      "only showing top 5 rows\n",
      "\n"
     ]
    }
   ],
   "source": [
    "df.show(5, False)"
   ]
  },
  {
   "cell_type": "code",
   "execution_count": 28,
   "metadata": {},
   "outputs": [
    {
     "name": "stdout",
     "output_type": "stream",
     "text": [
      "Dataset Range\n",
      "-------------\n",
      "Record count: 533,329\n",
      "Time range (min): 2020-06-21 00:00:00\n",
      "Time range (max): 2020-07-06 15:45:04\n",
      "Records:\n",
      "+------------------+------+\n",
      "|            device| count|\n",
      "+------------------+------+\n",
      "|iot-demo-device-01|155380|\n",
      "|iot-demo-device-02|151884|\n",
      "|iot-demo-device-03|226065|\n",
      "+------------------+------+\n",
      "\n",
      "\n"
     ]
    }
   ],
   "source": [
    "print(\"Dataset Range\")\n",
    "print(\"-------------\")\n",
    "print(\"Record count: {:,}\".format(df.count()))\n",
    "print(\"Time range (min): {}\".format(df.agg({\"ts\": \"min\"}).collect()[0][0]))\n",
    "print(\"Time range (max): {}\".format(df.agg({\"ts\": \"max\"}).collect()[0][0]))\n",
    "print(\"Records:\")\n",
    "print(\"\".format(df.groupBy(\"device\").count().select('device', f.col('count').alias('count')).show()))"
   ]
  },
  {
   "cell_type": "code",
   "execution_count": 35,
   "metadata": {},
   "outputs": [
    {
     "name": "stdout",
     "output_type": "stream",
     "text": [
      "[70.9000015258789]\n",
      "CPU times: user 25.1 ms, sys: 8.73 ms, total: 33.9 ms\n",
      "Wall time: 2.86 s\n"
     ]
    }
   ],
   "source": [
    "print(df.approxQuantile(col=\"humidity\", probabilities=[0.5], relativeError=.25))\n",
    "\n",
    "# q_hi  = df_filtered[\"humidity\"].quantile(0.99)\n",
    "# df_filtered = df_filtered[(df_filtered[\"humidity\"] < q_hi) & \n",
    "#                           (df_filtered[\"humidity\"] > q_low)]\n",
    "\n",
    "# q_low = df_filtered[\"temp\"].quantile(0.01)\n",
    "# q_hi  = df_filtered[\"temp\"].quantile(0.99)\n",
    "# df_filtered = df_filtered[(df_filtered[\"temp\"] < q_hi) & \n",
    "#                           (df_filtered[\"temp\"] > q_low)]\n",
    "\n",
    "# groups = df_filtered.groupby(\"device\")"
   ]
  }
 ],
 "metadata": {
  "kernelspec": {
   "display_name": "Containerized conda_python3",
   "language": "python",
   "name": "containerized_conda_python3"
  },
  "language_info": {
   "codemirror_mode": {
    "name": "ipython",
    "version": 3
   },
   "file_extension": ".py",
   "mimetype": "text/x-python",
   "name": "python",
   "nbconvert_exporter": "python",
   "pygments_lexer": "ipython3",
   "version": "3.6.5"
  }
 },
 "nbformat": 4,
 "nbformat_minor": 4
}
