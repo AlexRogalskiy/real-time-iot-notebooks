{
 "cells": [
  {
   "cell_type": "markdown",
   "metadata": {
    "pycharm": {
     "name": "#%% md\n"
    }
   },
   "source": [
    "# Octank IIoT Data Analytics Notebook\n",
    "Demonstration of [AWS IoT Analytics](https://aws.amazon.com/iot-analytics/) Notebooks, using real-time sensor data."
   ]
  },
  {
   "cell_type": "code",
   "execution_count": 1,
   "metadata": {},
   "outputs": [],
   "source": [
    "import boto3\n",
    "import pandas as pd\n",
    "import pyspark.sql.functions as f\n",
    "from pyspark.sql import SparkSession\n",
    "from pyspark.sql.types import StructType, StructField, StringType,  DoubleType, TimestampType, BooleanType"
   ]
  },
  {
   "cell_type": "code",
   "execution_count": 31,
   "metadata": {},
   "outputs": [],
   "source": [
    "def parse(x):\n",
    "    return pd.to_datetime(x,\n",
    "                          infer_datetime_format=True,\n",
    "                          unit='s',\n",
    "                          utc=True)"
   ]
  },
  {
   "cell_type": "code",
   "execution_count": 32,
   "metadata": {},
   "outputs": [],
   "source": [
    "spark = SparkSession \\\n",
    "    .builder \\\n",
    "    .appName('iiot_demo') \\\n",
    "    .getOrCreate()"
   ]
  },
  {
   "cell_type": "code",
   "execution_count": 33,
   "metadata": {},
   "outputs": [],
   "source": [
    "iot_schema = StructType([\n",
    "    StructField(name='device', dataType=StringType(), nullable=False),\n",
    "    StructField(name='ts', dataType=TimestampType(), nullable=False),\n",
    "    StructField(name='humidity', dataType=DoubleType(), nullable=True),\n",
    "    StructField(name='temp', dataType=DoubleType(), nullable=True),\n",
    "    StructField(name='light', dataType=BooleanType(), nullable=True),\n",
    "    StructField(name='motion', dataType=BooleanType(), nullable=True),\n",
    "    StructField(name='lpg', dataType=DoubleType(), nullable=True),\n",
    "    StructField(name='co', dataType=DoubleType(), nullable=True),\n",
    "    StructField(name='smoke', dataType=DoubleType(), nullable=True),\n",
    "    StructField(name='__dt', dataType=StringType(), nullable=True)\n",
    "])"
   ]
  },
  {
   "cell_type": "code",
   "execution_count": 38,
   "metadata": {},
   "outputs": [
    {
     "name": "stdout",
     "output_type": "stream",
     "text": [
      "CPU times: user 4.3 s, sys: 163 ms, total: 4.47 s\n",
      "Wall time: 5.02 s\n"
     ]
    }
   ],
   "source": [
    "%%time\n",
    "\n",
    "client = boto3.client(\"iotanalytics\")\n",
    "dataset = \"iot_data_dataset\"\n",
    "data_location = client.get_dataset_content(datasetName=dataset)[\"entries\"][0][\"dataURI\"]\n",
    "\n",
    "df = spark.createDataFrame(\n",
    "    data=pd.read_csv(\n",
    "        data_location,\n",
    "        header=0,\n",
    "        low_memory=False,\n",
    "        date_parser=parse,\n",
    "        parse_dates=[1],\n",
    "        nrows=100000\n",
    "    ), schema=iot_schema)"
   ]
  },
  {
   "cell_type": "code",
   "execution_count": 39,
   "metadata": {},
   "outputs": [],
   "source": [
    "df = df.drop(\"__dt\")\n",
    "df = df.orderBy(f.asc(\"ts\"))"
   ]
  },
  {
   "cell_type": "code",
   "execution_count": 40,
   "metadata": {},
   "outputs": [
    {
     "name": "stdout",
     "output_type": "stream",
     "text": [
      "+------------------+--------------------+-----------------+------------------+-----+------+--------------------+--------------------+--------------------+\n",
      "|            device|                  ts|         humidity|              temp|light|motion|                 lpg|                  co|               smoke|\n",
      "+------------------+--------------------+-----------------+------------------+-----+------+--------------------+--------------------+--------------------+\n",
      "|iot-demo-device-01|2020-06-20 23:59:...| 82.5999984741211| 62.06000137329102| true| false|0.006710216201741271|0.004134005617772618|0.017742466864098354|\n",
      "|iot-demo-device-02|2020-06-20 23:59:...|70.69999694824219|63.139998626708994| true| false|0.006747995268470235|0.004166214182479396|0.017849189636577008|\n",
      "|iot-demo-device-03|2020-06-20 23:59:...| 45.9000015258789|  75.9199993133545| true| false|0.007472417062662312|0.004796903006589501|0.019903266607975173|\n",
      "|iot-demo-device-03|2020-06-20 23:59:...|45.79999923706055|  75.9199993133545| true| false|0.007461079933679425|0.004786845372382666| 0.01987101220169098|\n",
      "|iot-demo-device-01|2020-06-20 23:59:...|             82.5| 62.06000137329102| true| false|0.006815757677372038|0.004224157830271972|0.018040714843423532|\n",
      "+------------------+--------------------+-----------------+------------------+-----+------+--------------------+--------------------+--------------------+\n",
      "only showing top 5 rows\n",
      "\n"
     ]
    }
   ],
   "source": [
    "df.show(5)"
   ]
  },
  {
   "cell_type": "code",
   "execution_count": 41,
   "metadata": {},
   "outputs": [
    {
     "name": "stdout",
     "output_type": "stream",
     "text": [
      "Dataset Range\n",
      "-------------\n",
      "Record count: 100,000\n",
      "Time range (min): 2020-06-20 23:59:32.175828\n",
      "Time range (max): 2020-07-05 08:19:57.985332\n",
      "Records:\n",
      "+------------------+-----+\n",
      "|            device|count|\n",
      "+------------------+-----+\n",
      "|iot-demo-device-01|29256|\n",
      "|iot-demo-device-02|28543|\n",
      "|iot-demo-device-03|42201|\n",
      "+------------------+-----+\n",
      "\n",
      "\n"
     ]
    }
   ],
   "source": [
    "print(\"Dataset Range\")\n",
    "print(\"-------------\")\n",
    "print(\"Record count: {:,}\".format(df.count()))\n",
    "print(\"Time range (min): {}\".format(df.agg({\"ts\": \"min\"}).collect()[0][0]))\n",
    "print(\"Time range (max): {}\".format(df.agg({\"ts\": \"max\"}).collect()[0][0]))\n",
    "print(\"Records:\")\n",
    "print(\"\".format(df.groupBy(\"device\").count().select('device', f.col('count').alias('count')).show()))"
   ]
  }
 ],
 "metadata": {
  "kernelspec": {
   "display_name": "Containerized conda_python3",
   "language": "python",
   "name": "containerized_conda_python3"
  },
  "language_info": {
   "codemirror_mode": {
    "name": "ipython",
    "version": 3
   },
   "file_extension": ".py",
   "mimetype": "text/x-python",
   "name": "python",
   "nbconvert_exporter": "python",
   "pygments_lexer": "ipython3",
   "version": "3.6.5"
  }
 },
 "nbformat": 4,
 "nbformat_minor": 4
}