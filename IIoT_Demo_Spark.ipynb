{
 "cells": [
  {
   "cell_type": "markdown",
   "metadata": {
    "pycharm": {
     "name": "#%% md\n"
    }
   },
   "source": [
    "# IIoT Data Analytics Notebook (Spark)\n",
    "Demonstration of [AWS IoT Analytics](https://aws.amazon.com/iot-analytics/) Notebooks, using real-time sensor data."
   ]
  },
  {
   "cell_type": "code",
   "execution_count": null,
   "metadata": {},
   "outputs": [],
   "source": [
    "import boto3\n",
    "import pandas as pd\n",
    "import pyspark.sql.functions as f\n",
    "from pyspark.sql import SparkSession\n",
    "from pyspark.sql.types import StructType, StructField, StringType,  DoubleType, TimestampType, BooleanType"
   ]
  },
  {
   "cell_type": "code",
   "execution_count": null,
   "metadata": {},
   "outputs": [],
   "source": [
    "def parse(x):\n",
    "    return pd.to_datetime(x,\n",
    "                          infer_datetime_format=True,\n",
    "                          unit='s',\n",
    "                          utc=True)"
   ]
  },
  {
   "cell_type": "code",
   "execution_count": null,
   "metadata": {},
   "outputs": [],
   "source": [
    "spark = SparkSession \\\n",
    "    .builder \\\n",
    "    .appName('iiot_demo') \\\n",
    "    .getOrCreate()"
   ]
  },
  {
   "cell_type": "code",
   "execution_count": null,
   "metadata": {},
   "outputs": [],
   "source": [
    "iot_schema = StructType([\n",
    "    StructField(name='device', dataType=StringType(), nullable=False),\n",
    "    StructField(name='ts', dataType=TimestampType(), nullable=False),\n",
    "    StructField(name='humidity', dataType=DoubleType(), nullable=True),\n",
    "    StructField(name='temp', dataType=DoubleType(), nullable=True),\n",
    "    StructField(name='light', dataType=BooleanType(), nullable=True),\n",
    "    StructField(name='motion', dataType=BooleanType(), nullable=True),\n",
    "    StructField(name='lpg', dataType=DoubleType(), nullable=True),\n",
    "    StructField(name='co', dataType=DoubleType(), nullable=True),\n",
    "    StructField(name='smoke', dataType=DoubleType(), nullable=True),\n",
    "    StructField(name='__dt', dataType=StringType(), nullable=True)\n",
    "])"
   ]
  },
  {
   "cell_type": "code",
   "execution_count": null,
   "metadata": {},
   "outputs": [],
   "source": [
    "%%time\n",
    "\n",
    "client = boto3.client(\"iotanalytics\")\n",
    "dataset = \"iot_data_dataset\"\n",
    "data_location = client.get_dataset_content(datasetName=dataset)[\"entries\"][0][\"dataURI\"]\n",
    "\n",
    "df = spark.createDataFrame(\n",
    "    data=pd.read_csv(\n",
    "        data_location,\n",
    "        header=0,\n",
    "        low_memory=False,\n",
    "        date_parser=parse,\n",
    "        parse_dates=[1],\n",
    "        nrows=1000\n",
    "    ), schema=iot_schema)"
   ]
  },
  {
   "cell_type": "code",
   "execution_count": null,
   "metadata": {},
   "outputs": [],
   "source": [
    "df = df.drop(\"__dt\")\n",
    "df = df.orderBy(f.asc(\"ts\"))"
   ]
  },
  {
   "cell_type": "code",
   "execution_count": null,
   "metadata": {},
   "outputs": [],
   "source": [
    "df.show(5)"
   ]
  },
  {
   "cell_type": "code",
   "execution_count": null,
   "metadata": {},
   "outputs": [],
   "source": [
    "print(\"Dataset Range\")\n",
    "print(\"-------------\")\n",
    "print(\"Record count: {:,}\".format(df.count()))\n",
    "print(\"Time range (min): {}\".format(df.agg({\"ts\": \"min\"}).collect()[0][0]))\n",
    "print(\"Time range (max): {}\".format(df.agg({\"ts\": \"max\"}).collect()[0][0]))\n",
    "print(\"Records:\")\n",
    "print(\"\".format(df.groupBy(\"device\").count().select('device', f.col('count').alias('count')).show()))"
   ]
  }
 ],
 "metadata": {
  "kernelspec": {
   "display_name": "conda_python3",
   "language": "python",
   "name": "conda_python3"
  },
  "language_info": {
   "codemirror_mode": {
    "name": "ipython",
    "version": 3
   },
   "file_extension": ".py",
   "mimetype": "text/x-python",
   "name": "python",
   "nbconvert_exporter": "python",
   "pygments_lexer": "ipython3",
   "version": "3.6.5"
  }
 },
 "nbformat": 4,
 "nbformat_minor": 4
}
