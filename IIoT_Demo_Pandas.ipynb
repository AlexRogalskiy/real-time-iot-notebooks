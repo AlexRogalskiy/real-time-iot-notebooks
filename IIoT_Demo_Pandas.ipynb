{
 "cells": [
  {
   "cell_type": "markdown",
   "metadata": {
    "pycharm": {
     "name": "#%% md\n"
    }
   },
   "source": [
    "# IIoT Data Analytics Notebook (Pandas)\n",
    "Demonstration of [AWS IoT Analytics](https://aws.amazon.com/iot-analytics/) Notebooks, using real-time sensor data."
   ]
  },
  {
   "cell_type": "code",
   "execution_count": null,
   "metadata": {},
   "outputs": [],
   "source": [
    "import sys\n",
    "import boto3\n",
    "import matplotlib.pyplot as plt\n",
    "import pandas as pd\n",
    "import plotly.express as px\n",
    "from matplotlib.dates import DateFormatter\n",
    "from pandas.plotting import register_matplotlib_converters"
   ]
  },
  {
   "cell_type": "code",
   "execution_count": null,
   "metadata": {},
   "outputs": [],
   "source": [
    "# constants\n",
    "MY_TIMEZONE='US/Eastern'\n",
    "DATETIME_FORMAT='%y-%m-%d %H:%M'"
   ]
  },
  {
   "cell_type": "code",
   "execution_count": null,
   "metadata": {},
   "outputs": [],
   "source": [
    "def parse(x):\n",
    "    x = pd.to_datetime(x, infer_datetime_format=True, unit='s', utc=True)\n",
    "    x = x.tz_convert(MY_TIMEZONE)\n",
    "    return x"
   ]
  },
  {
   "cell_type": "code",
   "execution_count": null,
   "metadata": {},
   "outputs": [],
   "source": [
    "%%time\n",
    "\n",
    "client = boto3.client('iotanalytics')\n",
    "dataset = 'iot_data_dataset'\n",
    "data_location = client.get_dataset_content(datasetName=dataset)['entries'][0]['dataURI']\n",
    "df = pd.read_csv(data_location,\n",
    "                 header=0,\n",
    "                 low_memory=False,\n",
    "                 infer_datetime_format=True,\n",
    "                 date_parser=parse,\n",
    "                 index_col=['ts'])"
   ]
  },
  {
   "cell_type": "code",
   "execution_count": null,
   "metadata": {},
   "outputs": [],
   "source": [
    "# clean up DataFrame\n",
    "df = df.drop(columns='__dt')\n",
    "df = df.sort_values(by='ts', ascending=True)"
   ]
  },
  {
   "cell_type": "code",
   "execution_count": null,
   "metadata": {},
   "outputs": [],
   "source": [
    "df.head(5)"
   ]
  },
  {
   "cell_type": "code",
   "execution_count": null,
   "metadata": {},
   "outputs": [],
   "source": [
    "print('Original DataFrame Range')\n",
    "print('-------------')\n",
    "print('Record count: {:,}'.format(df['temp'].count()))\n",
    "print('DataFrame size (MB): {:,.2f}'.format(sys.getsizeof(df)/1024/1024))\n",
    "print('-------------')\n",
    "print('Time range (min): {:%Y-%m-%d %H:%M:%S %Z}'.format(df.index[1]))\n",
    "print('Time range (max): {:%Y-%m-%d %H:%M:%S %Z}'.format(df.index[-1]))\n",
    "print('-------------')\n",
    "print('Records:\\n{}'.format(df.groupby('device').size()))"
   ]
  },
  {
   "cell_type": "code",
   "execution_count": null,
   "metadata": {},
   "outputs": [],
   "source": [
    "# filter time range (different methods)\n",
    "df_filtered = df.loc[df.index >= pd.Timestamp('2020-07-07T00', tz=MY_TIMEZONE)]\n",
    "df_filtered = df_filtered.loc[df_filtered.index < pd.Timestamp('2020-07-10T00', tz=MY_TIMEZONE)]\n",
    "\n",
    "#df_filtered = df.loc[df.index >= pd.Timestamp('today', tz=MY_TIMEZONE).floor('D') + pd.Timedelta(-1, unit='D')]\n",
    "\n",
    "# df_filtered = df.loc[df.index >= pd.Timestamp('today', tz=MY_TIMEZONE) + pd.Timedelta(-1, unit='D')] # last 24 hours\n",
    "\n",
    "#df_filtered = df.tail(10000) # fixed amount of records"
   ]
  },
  {
   "cell_type": "code",
   "execution_count": null,
   "metadata": {},
   "outputs": [],
   "source": [
    "# filter temp/humidity outliers (>1% & <99%)\n",
    "df_filtered = df_filtered.loc[df_filtered['temp'] > df_filtered.groupby('device').temp.transform(lambda x: x.quantile(.01))]\n",
    "df_filtered = df_filtered.loc[df_filtered['temp'] < df_filtered.groupby('device').temp.transform(lambda x: x.quantile(.99))]\n",
    "df_filtered = df_filtered.loc[df_filtered['humidity'] > df_filtered.groupby('device').humidity.transform(lambda x: x.quantile(.01))]\n",
    "df_filtered = df_filtered.loc[df_filtered['humidity'] < df_filtered.groupby('device').humidity.transform(lambda x: x.quantile(.99))]"
   ]
  },
  {
   "cell_type": "code",
   "execution_count": null,
   "metadata": {},
   "outputs": [],
   "source": [
    "# group by device\n",
    "# df_filtered = df_filtered.loc[df_filtered['device'] == 'iot-demo-device-01']\n",
    "groups = df_filtered.groupby('device')"
   ]
  },
  {
   "cell_type": "code",
   "execution_count": null,
   "metadata": {},
   "outputs": [],
   "source": [
    "print('Filtered DataFrame Range')\n",
    "print('-------------')\n",
    "print('Record count: {:,}'.format(df_filtered['temp'].count()))\n",
    "print('DataFrame size (MB): {:,.2f}'.format(sys.getsizeof(df_filtered)/1024/1024))\n",
    "print('-------------')\n",
    "print('Time range (min): {:%Y-%m-%d %H:%M:%S %Z}'.format(df_filtered.index[1]))\n",
    "print('Time range (max): {:%Y-%m-%d %H:%M:%S %Z}'.format(df_filtered.index[-1]))\n",
    "print('Temperature (min): {:.2f}'.format(df_filtered['temp'].min()))\n",
    "print('Temperature (max): {:.2f}'.format(df_filtered['temp'].max()))\n",
    "print('Humidity (min): {:.2f}{}'.format(df_filtered['humidity'].min(), '%'))\n",
    "print('Humidity (max): {:.2f}{}'.format(df_filtered['humidity'].max(), '%'))\n",
    "print('-------------')\n",
    "print('Record count:\\n{}'.format(groups.size()))\n",
    "print('Temperature (min):\\n{}'.format(groups['temp'].min()))\n",
    "print('Temperature (max):\\n{}'.format(groups['temp'].max()))\n",
    "print('Humidity (min)\\n{}'.format(groups['humidity'].min()))\n",
    "print('Humidity (max):\\n{}'.format(groups['humidity'].max()))"
   ]
  },
  {
   "cell_type": "code",
   "execution_count": null,
   "metadata": {},
   "outputs": [],
   "source": [
    "# matplotlib datetime config\n",
    "plt.rcParams['timezone']=MY_TIMEZONE\n",
    "register_matplotlib_converters()\n",
    "myFmt = DateFormatter(DATETIME_FORMAT)"
   ]
  },
  {
   "cell_type": "markdown",
   "metadata": {},
   "source": [
    "### Scatter Plot using Matplotlib\n",
    "* Using [Matplotlib: Visualization with Python](https://matplotlib.org/)\n",
    "* X Axis = temperature\n",
    "* Y Axis = humidity"
   ]
  },
  {
   "cell_type": "code",
   "execution_count": null,
   "metadata": {},
   "outputs": [],
   "source": [
    "_, ax = plt.subplots(1, 1, figsize=(18, 9))\n",
    "for device, group in groups:\n",
    "    ax.plot(group.temp,\n",
    "            group.humidity,\n",
    "            marker='o',\n",
    "            linestyle='',\n",
    "            alpha=.5,\n",
    "            ms=10,\n",
    "            label=device)\n",
    "ax.grid()\n",
    "ax.margins(0.05)\n",
    "ax.legend()\n",
    "plt.title('Temperature vs. Humidity')\n",
    "plt.xlabel('Temperature (˚F)')\n",
    "plt.ylabel('Humidity (%)')\n",
    "plt.show()"
   ]
  },
  {
   "cell_type": "markdown",
   "metadata": {},
   "source": [
    "### Temperature Graph using Moving Average\n",
    "* Smoothing data using the mean average of a 1 minute rolling window\n",
    "* 1 minutes = (20) data-points @ 3 second intervals\n",
    "* Reference: https://en.wikipedia.org/wiki/Moving_average"
   ]
  },
  {
   "cell_type": "code",
   "execution_count": null,
   "metadata": {
    "collapsed": false,
    "jupyter": {
     "outputs_hidden": false
    },
    "pycharm": {
     "name": "#%%\n"
    }
   },
   "outputs": [],
   "source": [
    "fig, ax = plt.subplots(1, 1, figsize=(18, 9))\n",
    "for device, group in groups:\n",
    "    group.mean = group.temp.rolling(window=20).mean()\n",
    "    ax.plot(group.mean,\n",
    "            label=device)\n",
    "fig.autofmt_xdate()\n",
    "ax.xaxis.set_major_formatter(myFmt)\n",
    "ax.grid()\n",
    "ax.margins(0.05)\n",
    "ax.legend()\n",
    "plt.title('Temperature Comparison over Time')\n",
    "plt.ylabel('Temperature (˚F)')\n",
    "plt.xlabel('Time')\n",
    "plt.show()"
   ]
  },
  {
   "cell_type": "markdown",
   "metadata": {},
   "source": [
    "### Humidity Graph using Moving Average\n",
    "* Smoothing data using the mean average of a 1 minute rolling window (moving average)\n",
    "* 1 minutes = (20) data-points @ 3 second intervals\n",
    "* Reference: https://en.wikipedia.org/wiki/Moving_average"
   ]
  },
  {
   "cell_type": "code",
   "execution_count": null,
   "metadata": {},
   "outputs": [],
   "source": [
    "fig, ax = plt.subplots(1, 1, figsize=(18, 9))\n",
    "for device, group in groups:\n",
    "    group.mean = group.humidity.rolling(window=20).mean()\n",
    "    ax.plot(group.mean,\n",
    "            label=device)\n",
    "fig.autofmt_xdate()\n",
    "ax.xaxis.set_major_formatter(myFmt)\n",
    "ax.grid()\n",
    "ax.margins(0.05)\n",
    "ax.legend()\n",
    "plt.title('Humidity Comparison over Time')\n",
    "plt.ylabel('Humidity (%)')\n",
    "plt.xlabel('Time')\n",
    "plt.show()"
   ]
  },
  {
   "cell_type": "markdown",
   "metadata": {},
   "source": [
    "### Plotly vs. Matplotlib for Graphing\n",
    "Graphs using [Plotly Python Open Source Graphing Library](https://plotly.com/python/)"
   ]
  },
  {
   "cell_type": "code",
   "execution_count": null,
   "metadata": {},
   "outputs": [],
   "source": [
    "# strip timezone info so Plotly won't convert to UTC\n",
    "df_filtered.index = df_filtered.index.tz_localize(None)\n",
    "\n",
    "fig = px.scatter(df_filtered,\n",
    "                 x='temp',\n",
    "                 y='humidity',\n",
    "                 color='device',\n",
    "                 hover_name='device',\n",
    "                 hover_data={'device': False,\n",
    "                             'temp':':.2f',\n",
    "                             'humidity':':.2f'})\n",
    "\n",
    "fig.update_layout(title='Temperature vs. Humidity',\n",
    "                  xaxis_title='Temperature (˚F)',\n",
    "                  yaxis_title='Humidity (%)',\n",
    "                  template='ggplot2')\n",
    "\n",
    "fig.show()"
   ]
  },
  {
   "cell_type": "code",
   "execution_count": null,
   "metadata": {},
   "outputs": [],
   "source": [
    "fig = px.line(df_filtered,\n",
    "              x=df_filtered.index.values,\n",
    "              y='temp',\n",
    "              color='device',\n",
    "              hover_name='device',\n",
    "              hover_data={'device': False,\n",
    "                             'temp':':.2f'})\n",
    "\n",
    "fig.update_layout(title='Temperature Comparison over Time',\n",
    "                  xaxis_title='Date/Time',\n",
    "                  yaxis_title='Temperature (˚F)',\n",
    "                  template='ggplot2')\n",
    "\n",
    "fig.show()"
   ]
  },
  {
   "cell_type": "code",
   "execution_count": null,
   "metadata": {},
   "outputs": [],
   "source": [
    "fig = px.line(df_filtered,\n",
    "              x=df_filtered.index.values,\n",
    "              y='humidity',\n",
    "              color='device',\n",
    "              hover_name='device',\n",
    "              hover_data={'device': False,\n",
    "                          'humidity':':.2f'})\n",
    "\n",
    "fig.update_layout(title='Humidity Comparison over Time',\n",
    "                  xaxis_title='Time',\n",
    "                  yaxis_title='Humidity (%)',\n",
    "                  template='ggplot2')\n",
    "\n",
    "fig.show()"
   ]
  },
  {
   "cell_type": "code",
   "execution_count": null,
   "metadata": {},
   "outputs": [],
   "source": [
    "fig = px.scatter(df_filtered,\n",
    "                 x=df_filtered.index.values,\n",
    "                 y='light',\n",
    "                 color='device',\n",
    "                 height=250)\n",
    "\n",
    "fig.update_layout(title='Light Detection Comparison over Time',\n",
    "                  xaxis_title='Time',\n",
    "                  yaxis_title='Detected?',\n",
    "                  template='ggplot2')\n",
    "\n",
    "fig.show()"
   ]
  }
 ],
 "metadata": {
  "kernelspec": {
   "display_name": "conda_python3",
   "language": "python",
   "name": "conda_python3"
  },
  "language_info": {
   "codemirror_mode": {
    "name": "ipython",
    "version": 3
   },
   "file_extension": ".py",
   "mimetype": "text/x-python",
   "name": "python",
   "nbconvert_exporter": "python",
   "pygments_lexer": "ipython3",
   "version": "3.6.5"
  },
  "toc-autonumbering": false,
  "toc-showmarkdowntxt": true,
  "toc-showtags": false
 },
 "nbformat": 4,
 "nbformat_minor": 4
}